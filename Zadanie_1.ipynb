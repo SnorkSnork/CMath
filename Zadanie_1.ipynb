{
 "cells": [
  {
   "cell_type": "markdown",
   "metadata": {},
   "source": [
    "ЗАДАЧА 1:\n",
    "1. Реализовать неявный метод Эйлера  и явный метод Р-К третьего порядка для решения з.Коши для системы ОДУ с произвольной правой частью.\n",
    "2. Подобрать в качестве примера ЖС ОДУ  и продемонстрировать работоспособность метода на нем.\n",
    "3. Построить график зависимости порядка метода p (полученного численно) от шага сетки для каждого из методов.\n",
    "\n",
    "ЗАДАЧА 2:\n",
    "1. Численно со вторым порядком точности решить краевую задачу \n",
    "$$\n",
    "\\epsilon u''(x) - u'(x) = -1, u(0) = 1, u(1) = 3.\n",
    "$$\n",
    "при $\\epsilon = 0.3; 0.01$ и $h = 1/10;1/25;1/100$. Объяснить поведение решения.\n",
    "2. Решить ту же самую задачу методом стрельбы."
   ]
  },
  {
   "cell_type": "code",
   "execution_count": 73,
   "metadata": {},
   "outputs": [],
   "source": [
    "import numpy as np\n",
    "import matplotlib.pyplot as plt"
   ]
  },
  {
   "cell_type": "code",
   "execution_count": 187,
   "metadata": {},
   "outputs": [],
   "source": [
    "a = 0.0\n",
    "b = 20.0\n",
    "h = 0.5\n",
    "\n",
    "j = int((b-a)//h)\n",
    "x=np.zeros(j)\n",
    "u=np.zeros(j)\n",
    "L=np.zeros(j)\n",
    "u[0] = y(a)\n",
    "\n",
    "#here we define u(x)\n",
    "def y (x):\n",
    "    rez = 10*x**2 - 5*x + 7\n",
    "    return rez\n",
    "\n",
    "#here we define f=du/dx\n",
    "def f (x, y):\n",
    "    rez = 20*x-5\n",
    "    return rez"
   ]
  },
  {
   "cell_type": "code",
   "execution_count": 199,
   "metadata": {},
   "outputs": [],
   "source": [
    "def NonNobisDomenie (x, y, h):\n",
    "    u = y + h * f(x + h, y) #+O(h^2)\n",
    "    return u"
   ]
  },
  {
   "cell_type": "code",
   "execution_count": 200,
   "metadata": {},
   "outputs": [
    {
     "name": "stdout",
     "output_type": "stream",
     "text": [
      "0 0.0 7.0 -2.5\n",
      "1 0.5 9.5 -5.0\n",
      "2 1.0 17.0 -7.5\n",
      "3 1.5 29.5 -10.0\n",
      "4 2.0 47.0 -12.5\n",
      "5 2.5 69.5 -15.0\n",
      "6 3.0 97.0 -17.5\n",
      "7 3.5 129.5 -20.0\n",
      "8 4.0 167.0 -22.5\n",
      "9 4.5 209.5 -25.0\n",
      "10 5.0 257.0 -27.5\n",
      "11 5.5 309.5 -30.0\n",
      "12 6.0 367.0 -32.5\n",
      "13 6.5 429.5 -35.0\n",
      "14 7.0 497.0 -37.5\n",
      "15 7.5 569.5 -40.0\n",
      "16 8.0 647.0 -42.5\n",
      "17 8.5 729.5 -45.0\n",
      "18 9.0 817.0 -47.5\n",
      "19 9.5 909.5 -50.0\n",
      "20 10.0 1007.0 -52.5\n",
      "21 10.5 1109.5 -55.0\n",
      "22 11.0 1217.0 -57.5\n",
      "23 11.5 1329.5 -60.0\n",
      "24 12.0 1447.0 -62.5\n",
      "25 12.5 1569.5 -65.0\n",
      "26 13.0 1697.0 -67.5\n",
      "27 13.5 1829.5 -70.0\n",
      "28 14.0 1967.0 -72.5\n",
      "29 14.5 2109.5 -75.0\n",
      "30 15.0 2257.0 -77.5\n",
      "31 15.5 2409.5 -80.0\n",
      "32 16.0 2567.0 -82.5\n",
      "33 16.5 2729.5 -85.0\n",
      "34 17.0 2897.0 -87.5\n",
      "35 17.5 3069.5 -90.0\n",
      "36 18.0 3247.0 -92.5\n",
      "37 18.5 3429.5 -95.0\n",
      "38 19.0 3617.0 -97.5\n"
     ]
    }
   ],
   "source": [
    "for i in range (j-1):\n",
    "    x[i] = a + i*h\n",
    "    u[i+1]= NonNobisDomenie (x[i], u[i], h)\n",
    "    #Now counting difference just to know error of our method\n",
    "    L[i]=y(x[i]+h)-u[i+1]\n",
    "    print (i,  x[i], u[i], L[i])\n",
    "\n",
    "    "
   ]
  },
  {
   "cell_type": "code",
   "execution_count": 190,
   "metadata": {},
   "outputs": [
    {
     "data": {
      "text/plain": [
       "[<matplotlib.lines.Line2D at 0x2af631265f8>]"
      ]
     },
     "execution_count": 190,
     "metadata": {},
     "output_type": "execute_result"
    },
    {
     "data": {
      "image/png": "[encoded data removed]",
      "text/plain": [
       "<Figure size 432x288 with 1 Axes>"
      ]
     },
     "metadata": {},
     "output_type": "display_data"
    }
   ],
   "source": [
    "plt.figure(1)\n",
    "plt.xlabel('x')\n",
    "plt.ylabel('u')\n",
    "#plt.ylabel('L')\n",
    "plt.plot(x, u, marker=\"s\",  markersize=3)\n",
    "plt.plot(x, L, marker=\"d\",  markersize=3)"
   ]
  },
  {
   "cell_type": "code",
   "execution_count": 191,
   "metadata": {},
   "outputs": [],
   "source": [
    "\n",
    "\n",
    "\n",
    "\n",
    "\n",
    "\n",
    "#Метод Рунге-Кутты\n",
    "\n",
    "\n",
    "\n",
    "\n"
   ]
  },
  {
   "cell_type": "code",
   "execution_count": 204,
   "metadata": {},
   "outputs": [],
   "source": [
    "A = np.array ([[0, 0, 0, 0],\n",
    "            [1/2, 1/2, 0, 0],\n",
    "            [1, 0, 1, 0],\n",
    "            [0, 1/6, 2/3, 1/6]])\n",
    "\n",
    "x[0] = a\n",
    "u[0] = y(a)\n",
    "\n",
    "def Runge (x, y, h):\n",
    "    k1 = f(x, y)\n",
    "    k2 = f(x+A[1][0]*h, y+h*A[1][1]*k1)\n",
    "    k3 = f(x+A[2][0]*h, y+h*(A[2][1]*k1+A[2][2]*k2))\n",
    "    y_next = y + h*(A[3][1]*k1+A[3][2]*k2+A[3][3]*k3)\n",
    "    return y_next\n"
   ]
  },
  {
   "cell_type": "code",
   "execution_count": 205,
   "metadata": {},
   "outputs": [
    {
     "name": "stdout",
     "output_type": "stream",
     "text": [
      "0 0.0 7.0 0.0\n",
      "1 0.5 7.0 0.0\n",
      "2 1.0 12.0 0.0\n",
      "3 1.5 22.0 0.0\n",
      "4 2.0 37.0 0.0\n",
      "5 2.5 57.0 0.0\n",
      "6 3.0 82.0 0.0\n",
      "7 3.5 112.0 0.0\n",
      "8 4.0 147.0 0.0\n",
      "9 4.5 187.0 0.0\n",
      "10 5.0 232.0 0.0\n",
      "11 5.5 282.0 0.0\n",
      "12 6.0 337.0 0.0\n",
      "13 6.5 397.0 0.0\n",
      "14 7.0 462.0 0.0\n",
      "15 7.5 532.0 0.0\n",
      "16 8.0 607.0 0.0\n",
      "17 8.5 687.0 0.0\n",
      "18 9.0 772.0 0.0\n",
      "19 9.5 862.0 0.0\n",
      "20 10.0 957.0 0.0\n",
      "21 10.5 1057.0 0.0\n",
      "22 11.0 1162.0 0.0\n",
      "23 11.5 1272.0 0.0\n",
      "24 12.0 1387.0 0.0\n",
      "25 12.5 1507.0 0.0\n",
      "26 13.0 1632.0 0.0\n",
      "27 13.5 1762.0 0.0\n",
      "28 14.0 1897.0 0.0\n",
      "29 14.5 2037.0 0.0\n",
      "30 15.0 2182.0 0.0\n",
      "31 15.5 2332.0 0.0\n",
      "32 16.0 2487.0 0.0\n",
      "33 16.5 2647.0 0.0\n",
      "34 17.0 2812.0 0.0\n",
      "35 17.5 2982.0 0.0\n",
      "36 18.0 3157.0 0.0\n",
      "37 18.5 3337.0 0.0\n",
      "38 19.0 3522.0 0.0\n"
     ]
    }
   ],
   "source": [
    "for i in range (j-1):\n",
    "    x[i] = a+h*i\n",
    "    u[i+1] = Runge(x[i], u[i], h)\n",
    "    L[i] = y(x[i]+h) - u[i+1]\n",
    "    print (i, x[i], u[i], L[i])"
   ]
  },
  {
   "cell_type": "code",
   "execution_count": 203,
   "metadata": {},
   "outputs": [
    {
     "data": {
      "text/plain": [
       "[<matplotlib.lines.Line2D at 0x2af632689b0>]"
      ]
     },
     "execution_count": 203,
     "metadata": {},
     "output_type": "execute_result"
    },
    {
     "data": {
      "image/png": "[encoded data removed]",
      "text/plain": [
       "<Figure size 432x288 with 1 Axes>"
      ]
     },
     "metadata": {},
     "output_type": "display_data"
    }
   ],
   "source": [
    "plt.figure(2)\n",
    "plt.xlabel('x')\n",
    "plt.ylabel('u')\n",
    "#plt.ylabel('L')\n",
    "plt.plot(x, u, marker=\"s\",  markersize=3)\n",
    "plt.plot(x, L, marker=\"d\",  markersize=3)"
   ]
  },
  {
   "cell_type": "code",
   "execution_count": 207,
   "metadata": {},
   "outputs": [],
   "source": [
    "\n",
    "\n",
    "\n",
    "#TASK 2\n",
    "\n",
    "\n"
   ]
  },
  {
   "cell_type": "code",
   "execution_count": null,
   "metadata": {},
   "outputs": [],
   "source": [
    "#Численно со вторым порядком точности решить краевую задачу\n",
    "#ϵu″(x)−u′(x)=−1,u(0)=1,u(1)=3.\n",
    " \n",
    "#при  ϵ=0.3;0.01  и  h=1/10;1/25;1/100. Объяснить поведение решения.\n",
    "#Решить ту же самую задачу методом стрельбы."
   ]
  },
  {
   "cell_type": "code",
   "execution_count": 291,
   "metadata": {},
   "outputs": [
    {
     "name": "stdout",
     "output_type": "stream",
     "text": [
      "[1.         1.01119894 1.02243852 1.03372013 1.04504518 1.05641514\n",
      " 1.06783154 1.07929596 1.09081002 1.1023754  1.11399385 1.12566716\n",
      " 1.13739719 1.14918586 1.16103517 1.17294717 1.18492398 1.19696781\n",
      " 1.20908091 1.22126564 1.23352444 1.2458598  1.25827433 1.2707707\n",
      " 1.2833517  1.29602019 1.30877914 1.32163161 1.33458078 1.34762992\n",
      " 1.36078241 1.37404178 1.38741163 1.40089571 1.41449789 1.42822219\n",
      " 1.44207273 1.45605379 1.47016981 1.48442536 1.49882516 1.51337411\n",
      " 1.52807725 1.54293983 1.55796724 1.57316507 1.5885391  1.6040953\n",
      " 1.61983984 1.63577912 1.65191972 1.66826849 1.68483246 1.70161894\n",
      " 1.71863548 1.73588986 1.75339015 1.77114469 1.7891621  1.80745128\n",
      " 1.82602145 1.84488213 1.86404318 1.88351477 1.90330743 1.92343205\n",
      " 1.94389988 1.96472254 1.98591208 2.00748092 2.02944193 2.05180839\n",
      " 2.07459406 2.09781314 2.12148032 2.1456108  2.17022027 2.19532499\n",
      " 2.22094172 2.24708784 2.27378129 2.30104061 2.328885   2.35733428\n",
      " 2.38640896 2.41613023 2.44652003 2.47760101 2.50939659 2.54193101\n",
      " 2.57522931 2.60931738 2.64422199 2.67997083 2.71659252 2.75411663\n",
      " 2.79257376 2.83199554 2.87241467 2.91386495 2.95638135 3.        ]\n"
     ]
    }
   ],
   "source": [
    "a = 0\n",
    "b = 1\n",
    "h = 1/100\n",
    "m = int ((b-a)/h)+2\n",
    "e = 0.3\n",
    "A = np.zeros ((m, m))\n",
    "F = np.ones (m)\n",
    "U = np.zeros (m)\n",
    "x = np.zeros (m)\n",
    "F*=(-1)\n",
    "\n",
    "F[0] = 1\n",
    "F[m-1] = 3\n",
    "\n",
    "A[0][0] = 1\n",
    "A[m-1][m-1] = 1\n",
    "\n",
    "for i in range (1,m-1):\n",
    "        A[i][i-1] = e/h**2 + 1/2/h\n",
    "        A[i][i] = -e*2 / h**2\n",
    "        A[i][i+1] = e/h**2 - 1/2/h\n",
    "        x[i] = a + i*h\n",
    "\n",
    "\n",
    "U = np.dot(np.linalg.inv(A), F)\n",
    "#U = np.linalg.solve (A,F)\n",
    "print(U)\n",
    "\n",
    "#F1 = np.zeros (m)\n",
    "#F1 = np.dot (A, U)\n",
    "#print (F1)\n"
   ]
  },
  {
   "cell_type": "code",
   "execution_count": 292,
   "metadata": {},
   "outputs": [
    {
     "data": {
      "text/plain": [
       "[<matplotlib.lines.Line2D at 0x2af661b3400>]"
      ]
     },
     "execution_count": 292,
     "metadata": {},
     "output_type": "execute_result"
    },
    {
     "data": {
      "image/png": "[encoded data removed]",
      "text/plain": [
       "<Figure size 432x288 with 1 Axes>"
      ]
     },
     "metadata": {},
     "output_type": "display_data"
    }
   ],
   "source": [
    "plt.figure(3)\n",
    "plt.xlabel('x')\n",
    "plt.ylabel('U')\n",
    "plt.plot(x, U, marker=\"s\",  markersize=3)"
   ]
  },
  {
   "cell_type": "code",
   "execution_count": null,
   "metadata": {},
   "outputs": [],
   "source": [
    "#Метод стрельбы"
   ]
  },
  {
   "cell_type": "code",
   "execution_count": 297,
   "metadata": {},
   "outputs": [],
   "source": [
    "a = 0\n",
    "b = 1\n",
    "h = 1/100\n",
    "m = int ((b-a)/h)+1\n",
    "e = 0.3\n",
    "t = np.zeros(m)\n",
    "Y = np.ones ((3, m))\n",
    "Y[1][0] = 0\n",
    "Y[0][1] += h\n",
    "Y[1][1] = h\n",
    "for i in range (1, m-1):\n",
    "    t[i] = i*h\n",
    "    Y[0][i+1] = (2*e/h**2 * Y[0][i] - (e/h**2+1/2/h)*Y[0][i-1] - 1)/(e/h**2-1/2/h)\n",
    "    Y[1][i+1] = 2* h/e * Y[0][i]- Y[0][i-1]-2*h/e\n",
    "    \n",
    "t[m-1] = (m-1)*h\n",
    "for i in range (m):\n",
    "    Y[2][i] = Y[0][i] + ((3-Y[0][m-1])/Y[1][m-1])*Y[1][i]\n",
    "    "
   ]
  },
  {
   "cell_type": "code",
   "execution_count": 299,
   "metadata": {},
   "outputs": [
    {
     "data": {
      "text/plain": [
       "[<matplotlib.lines.Line2D at 0x2af66271588>]"
      ]
     },
     "execution_count": 299,
     "metadata": {},
     "output_type": "execute_result"
    },
    {
     "data": {
      "image/png": "[encoded data removed]",
      "text/plain": [
       "<Figure size 432x288 with 1 Axes>"
      ]
     },
     "metadata": {},
     "output_type": "display_data"
    }
   ],
   "source": [
    "plt.figure(4)\n",
    "plt.xlabel('x')\n",
    "plt.ylabel('Y')\n",
    "plt.plot(t, Y[2], marker=\"s\",  markersize=3)"
   ]
  },
  {
   "cell_type": "code",
   "execution_count": null,
   "metadata": {},
   "outputs": [],
   "source": []
  }
 ],
 "metadata": {
  "kernelspec": {
   "display_name": "Python 3",
   "language": "python",
   "name": "python3"
  },
  "language_info": {
   "codemirror_mode": {
    "name": "ipython",
    "version": 3
   },
   "file_extension": ".py",
   "mimetype": "text/x-python",
   "name": "python",
   "nbconvert_exporter": "python",
   "pygments_lexer": "ipython3",
   "version": "3.6.5"
  }
 },
 "nbformat": 4,
 "nbformat_minor": 2
}
